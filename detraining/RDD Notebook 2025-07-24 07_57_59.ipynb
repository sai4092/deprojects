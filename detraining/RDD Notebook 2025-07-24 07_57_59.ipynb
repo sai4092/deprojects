{
 "cells": [
  {
   "cell_type": "code",
   "execution_count": 0,
   "metadata": {
    "application/vnd.databricks.v1+cell": {
     "cellMetadata": {
      "byteLimit": 2048000,
      "rowLimit": 10000
     },
     "inputWidgets": {},
     "nuid": "41a73dd9-e116-4d2a-b933-ad32ad5aca70",
     "showTitle": false,
     "tableResultSettingsMap": {},
     "title": ""
    }
   },
   "outputs": [],
   "source": [
    "rdd = spark.sparkContext.parallelize([1, 2, 3, 4, 5])\n",
    "\n",
    "#spark.sparkContext.textFile(\"/databricks-datasets/README.md\")\n",
    "\n",
    "#[ i* 2 for i in range([])]\n",
    "#Lambda functions -> Ananomous functions but it can contain simple logic\n",
    "\n",
    "# Apply simple transformations (lazy)\n",
    "rdd2 = rdd.map(lambda x: x * 2)\n",
    "rdd3 = rdd2.filter(lambda x: x > 5)\n",
    "\n",
    "# Action triggers execution\n",
    "result = rdd3.collect()\n",
    "\n",
    "display(result)"
   ]
  },
  {
   "cell_type": "code",
   "execution_count": 0,
   "metadata": {
    "application/vnd.databricks.v1+cell": {
     "cellMetadata": {},
     "inputWidgets": {},
     "nuid": "53f540ec-6b5c-411c-a4b2-c17148848738",
     "showTitle": false,
     "tableResultSettingsMap": {},
     "title": ""
    }
   },
   "outputs": [],
   "source": [
    "%scala\n",
    "val rdd = spark.sparkContext.parallelize(Seq(1, 2, 3, 4, 5))\n",
    "val rdd2 = rdd.map(x => x * 2)\n",
    "val rdd3 = rdd2.filter(x => x > 5)"
   ]
  },
  {
   "cell_type": "code",
   "execution_count": 0,
   "metadata": {
    "application/vnd.databricks.v1+cell": {
     "cellMetadata": {},
     "inputWidgets": {},
     "nuid": "c339bdf0-7455-4b46-a3e4-872056b0e350",
     "showTitle": false,
     "tableResultSettingsMap": {},
     "title": ""
    }
   },
   "outputs": [],
   "source": []
  }
 ],
 "metadata": {
  "application/vnd.databricks.v1+notebook": {
   "computePreferences": null,
   "dashboards": [],
   "environmentMetadata": {
    "base_environment": "",
    "environment_version": "2"
   },
   "inputWidgetPreferences": null,
   "language": "python",
   "notebookMetadata": {
    "pythonIndentUnit": 4
   },
   "notebookName": "RDD Notebook 2025-07-24 07:57:59",
   "widgets": {}
  },
  "language_info": {
   "name": "python"
  }
 },
 "nbformat": 4,
 "nbformat_minor": 0
}

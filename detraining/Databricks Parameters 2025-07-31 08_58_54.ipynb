{
 "cells": [
  {
   "cell_type": "code",
   "execution_count": 0,
   "metadata": {
    "application/vnd.databricks.v1+cell": {
     "cellMetadata": {
      "byteLimit": 2048000,
      "rowLimit": 10000
     },
     "inputWidgets": {},
     "nuid": "108c04fc-74d8-4407-bbf0-1149878e3394",
     "showTitle": false,
     "tableResultSettingsMap": {},
     "title": ""
    }
   },
   "outputs": [],
   "source": [
    "dbutils.widgets.text(\"input_text\", \"default\", \"Input Text\")\n",
    "dbutils.widgets.dropdown(\"dropdown\", \"option1\", [\"option1\", \"option2\", \"option3\"], \"Dropdown\")\n",
    "dbutils.widgets.combobox(\"combobox\", \"option1\", [\"option1\", \"option2\", \"option3\"], \"Combobox\")\n",
    "dbutils.widgets.multiselect(\"multiselect\", \"option1\", [\"option1\", \"option2\", \"option3\"], \"Multiselect\")\n",
    "date = dbutils.widgets.get(\"input_text\")\n",
    "print(date)"
   ]
  },
  {
   "cell_type": "code",
   "execution_count": 0,
   "metadata": {
    "application/vnd.databricks.v1+cell": {
     "cellMetadata": {
      "byteLimit": 2048000,
      "rowLimit": 10000
     },
     "inputWidgets": {},
     "nuid": "5e92f1c1-2493-4f36-a527-4042632ffba0",
     "showTitle": false,
     "tableResultSettingsMap": {},
     "title": ""
    }
   },
   "outputs": [],
   "source": [
    "dbutils.notebook.help()\n",
    "#dbutils.notebook.run(path, timeout_seconds, arguments)\n",
    "#dbutils.notebook.exit(value)"
   ]
  },
  {
   "cell_type": "code",
   "execution_count": 0,
   "metadata": {
    "application/vnd.databricks.v1+cell": {
     "cellMetadata": {
      "byteLimit": 2048000,
      "rowLimit": 10000
     },
     "inputWidgets": {},
     "nuid": "2db8c362-2289-41f7-82bd-766c99938507",
     "showTitle": false,
     "tableResultSettingsMap": {},
     "title": ""
    }
   },
   "outputs": [],
   "source": [
    "dbutils.notebook.help(\"run\")"
   ]
  },
  {
   "cell_type": "code",
   "execution_count": 0,
   "metadata": {
    "application/vnd.databricks.v1+cell": {
     "cellMetadata": {
      "byteLimit": 2048000,
      "rowLimit": 10000
     },
     "inputWidgets": {},
     "nuid": "aed9fd02-7863-4a4a-855f-5b2dc44ae244",
     "showTitle": false,
     "tableResultSettingsMap": {},
     "title": ""
    }
   },
   "outputs": [],
   "source": [
    "input_text_value = dbutils.widgets.get(\"multiselect\")\n",
    "display(input_text_value)"
   ]
  },
  {
   "cell_type": "code",
   "execution_count": 0,
   "metadata": {
    "application/vnd.databricks.v1+cell": {
     "cellMetadata": {
      "byteLimit": 2048000,
      "rowLimit": 10000
     },
     "inputWidgets": {},
     "nuid": "d7c2ea66-ec5e-4e8f-be28-78e63f8724ba",
     "showTitle": false,
     "tableResultSettingsMap": {},
     "title": ""
    }
   },
   "outputs": [],
   "source": [
    "dbutils.help()"
   ]
  },
  {
   "cell_type": "code",
   "execution_count": 0,
   "metadata": {
    "application/vnd.databricks.v1+cell": {
     "cellMetadata": {
      "byteLimit": 2048000,
      "rowLimit": 10000
     },
     "inputWidgets": {},
     "nuid": "919c0624-aa69-4ea6-a500-509c3f6f4012",
     "showTitle": false,
     "tableResultSettingsMap": {},
     "title": ""
    }
   },
   "outputs": [],
   "source": [
    "dbutils.fs.help()\n",
    "dbutils.fs.ls(\"dbfs:/FileStore/tables\")\n",
    "dbutils.fs.help(\"ls\")"
   ]
  },
  {
   "cell_type": "code",
   "execution_count": 0,
   "metadata": {
    "application/vnd.databricks.v1+cell": {
     "cellMetadata": {
      "byteLimit": 2048000,
      "rowLimit": 10000
     },
     "inputWidgets": {},
     "nuid": "f19497b4-82d9-407e-91da-1de877ebaaf5",
     "showTitle": false,
     "tableResultSettingsMap": {},
     "title": ""
    }
   },
   "outputs": [],
   "source": [
    "dbutils.fs.ls(\"/Volumes/workspace/default/tmp/\")"
   ]
  },
  {
   "cell_type": "code",
   "execution_count": 0,
   "metadata": {
    "application/vnd.databricks.v1+cell": {
     "cellMetadata": {
      "byteLimit": 2048000,
      "rowLimit": 10000
     },
     "inputWidgets": {},
     "nuid": "4d820008-6a14-4f1f-abea-20e1d1a9f65d",
     "showTitle": false,
     "tableResultSettingsMap": {},
     "title": ""
    }
   },
   "outputs": [],
   "source": [
    "dbutils.fs.head(\"dbfs:/Volumes/workspace/default/tmp/country_lookup.csv\",500)"
   ]
  },
  {
   "cell_type": "code",
   "execution_count": 0,
   "metadata": {
    "application/vnd.databricks.v1+cell": {
     "cellMetadata": {
      "byteLimit": 2048000,
      "rowLimit": 10000
     },
     "inputWidgets": {},
     "nuid": "141ed7b0-22ec-42e7-9c75-f2805ab5f1f6",
     "showTitle": false,
     "tableResultSettingsMap": {},
     "title": ""
    }
   },
   "outputs": [],
   "source": [
    "dbutils.notebook.run(\"/Workspace/Users/dataarchitectstudio@gmail.com/DE-Training/Dataframe Creation Notebook\", timeout_seconds = 60, arguments={\"input_text\": \"Hello World\"})"
   ]
  }
 ],
 "metadata": {
  "application/vnd.databricks.v1+notebook": {
   "computePreferences": null,
   "dashboards": [],
   "environmentMetadata": {
    "base_environment": "",
    "environment_version": "2"
   },
   "inputWidgetPreferences": null,
   "language": "python",
   "notebookMetadata": {
    "pythonIndentUnit": 4
   },
   "notebookName": "Databricks Parameters 2025-07-31 08:58:54",
   "widgets": {
    "combobox": {
     "currentValue": "option2",
     "nuid": "bfaca5df-a6ba-435d-9009-321362a3c413",
     "typedWidgetInfo": {
      "autoCreated": false,
      "defaultValue": "option1",
      "label": "Combobox",
      "name": "combobox",
      "options": {
       "widgetDisplayType": "Dropdown",
       "choices": [
        "option1",
        "option2",
        "option3"
       ],
       "fixedDomain": false,
       "multiselect": false
      },
      "parameterDataType": "String"
     },
     "widgetInfo": {
      "widgetType": "combobox",
      "defaultValue": "option1",
      "label": "Combobox",
      "name": "combobox",
      "options": {
       "widgetType": "dropdown",
       "autoCreated": null,
       "choices": [
        "option1",
        "option2",
        "option3"
       ]
      }
     }
    },
    "dropdown": {
     "currentValue": "option1",
     "nuid": "6cdabb7c-5e51-4a2f-bfb6-59fff2dc765b",
     "typedWidgetInfo": {
      "autoCreated": false,
      "defaultValue": "option1",
      "label": "Dropdown",
      "name": "dropdown",
      "options": {
       "widgetDisplayType": "Dropdown",
       "choices": [
        "option1",
        "option2",
        "option3"
       ],
       "fixedDomain": true,
       "multiselect": false
      },
      "parameterDataType": "String"
     },
     "widgetInfo": {
      "widgetType": "dropdown",
      "defaultValue": "option1",
      "label": "Dropdown",
      "name": "dropdown",
      "options": {
       "widgetType": "dropdown",
       "autoCreated": null,
       "choices": [
        "option1",
        "option2",
        "option3"
       ]
      }
     }
    },
    "input_text": {
     "currentValue": "2025-07-31",
     "nuid": "0c75b2c8-b9ee-4121-bb1a-1a9834f37c50",
     "typedWidgetInfo": {
      "autoCreated": false,
      "defaultValue": "default",
      "label": "Input Text",
      "name": "input_text",
      "options": {
       "widgetDisplayType": "Text",
       "validationRegex": null
      },
      "parameterDataType": "String"
     },
     "widgetInfo": {
      "widgetType": "text",
      "defaultValue": "default",
      "label": "Input Text",
      "name": "input_text",
      "options": {
       "widgetType": "text",
       "autoCreated": null,
       "validationRegex": null
      }
     }
    },
    "multiselect": {
     "currentValue": "option1,option2",
     "nuid": "133ceb66-783e-494e-953c-9c19bd780079",
     "typedWidgetInfo": {
      "autoCreated": false,
      "defaultValue": "option1",
      "label": "Multiselect",
      "name": "multiselect",
      "options": {
       "widgetDisplayType": "Dropdown",
       "choices": [
        "option1",
        "option2",
        "option3"
       ],
       "fixedDomain": true,
       "multiselect": true
      },
      "parameterDataType": "String"
     },
     "widgetInfo": {
      "widgetType": "multiselect",
      "defaultValue": "option1",
      "label": "Multiselect",
      "name": "multiselect",
      "options": {
       "widgetType": "dropdown",
       "autoCreated": null,
       "choices": [
        "option1",
        "option2",
        "option3"
       ]
      }
     }
    }
   }
  },
  "language_info": {
   "name": "python"
  }
 },
 "nbformat": 4,
 "nbformat_minor": 0
}

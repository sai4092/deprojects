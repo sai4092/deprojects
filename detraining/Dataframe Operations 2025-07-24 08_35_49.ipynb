{
 "cells": [
  {
   "cell_type": "code",
   "execution_count": 0,
   "metadata": {
    "application/vnd.databricks.v1+cell": {
     "cellMetadata": {
      "byteLimit": 2048000,
      "rowLimit": 10000
     },
     "inputWidgets": {},
     "nuid": "92de462f-486f-4e6f-9cbf-2eba4876a227",
     "showTitle": false,
     "tableResultSettingsMap": {},
     "title": ""
    }
   },
   "outputs": [],
   "source": [
    "from pyspark.sql.functions import col, when, lit, upper, lower, concat_ws, split, explode, avg, sum as spark_sum, countDistinct\n",
    "\n",
    "# Create dummy DataFrame\n",
    "data = [\n",
    "    (1, \"Alice\", 29, \"2025-07-24\", \"NY\"),\n",
    "    (2, \"Bob\", 35, \"2025-07-23\", \"CA\"),\n",
    "    (3, \"Charlie\", 30, \"2025-07-22\", \"TX\"),\n",
    "    (4, \"David\", 40, \"2025-07-21\", \"NY\"),\n",
    "    (5, \"Eve\", 25, \"2025-07-20\", \"CA\")\n",
    "]\n",
    "columns = [\"id\", \"name\", \"age\", \"date\", \"state\"]\n",
    "df = spark.createDataFrame(data, columns)\n",
    "\n",
    "display(df)"
   ]
  },
  {
   "cell_type": "code",
   "execution_count": 0,
   "metadata": {
    "application/vnd.databricks.v1+cell": {
     "cellMetadata": {
      "byteLimit": 2048000,
      "rowLimit": 10000
     },
     "inputWidgets": {},
     "nuid": "49becfe4-a2be-4e3f-99b2-e2b275d040fc",
     "showTitle": false,
     "tableResultSettingsMap": {},
     "title": ""
    }
   },
   "outputs": [],
   "source": [
    "# Transformations\n",
    "df1 = df.withColumn(\"age_plus_10\", col(\"age\") + 10)\n",
    "\n",
    "display(df1)"
   ]
  },
  {
   "cell_type": "code",
   "execution_count": 0,
   "metadata": {
    "application/vnd.databricks.v1+cell": {
     "cellMetadata": {
      "byteLimit": 2048000,
      "rowLimit": 10000
     },
     "inputWidgets": {},
     "nuid": "c40d262b-9b37-4a6f-aad1-fb3226ff4444",
     "showTitle": false,
     "tableResultSettingsMap": {
      "0": {
       "dataGridStateBlob": "{\"version\":1,\"tableState\":{\"columnPinning\":{\"left\":[\"#row_number#\"],\"right\":[]},\"columnSizing\":{},\"columnVisibility\":{}},\"settings\":{\"columns\":{}},\"syncTimestamp\":1753327173552}",
       "filterBlob": null,
       "queryPlanFiltersBlob": null,
       "tableResultIndex": 0
      }
     },
     "title": ""
    }
   },
   "outputs": [],
   "source": [
    "df2 = df1.withColumn(\"is_ny\", when(col(\"state\") == \"NY\", lit(1)).otherwise(lit(0)))\n",
    "df3 = df2.withColumn(\"name_upper\", upper(col(\"name\")))\n",
    "df4 = df3.withColumn(\"name_lower\", lower(col(\"name\")))\n",
    "df5 = df4.withColumn(\"full_info\", concat_ws(\"-\", col(\"name\"), col(\"state\"), col(\"age\")))\n",
    "\n",
    "display(df5)"
   ]
  },
  {
   "cell_type": "code",
   "execution_count": 0,
   "metadata": {
    "application/vnd.databricks.v1+cell": {
     "cellMetadata": {
      "byteLimit": 2048000,
      "rowLimit": 10000
     },
     "inputWidgets": {},
     "nuid": "6e94bc35-87a4-40b2-b233-e5d5d21e9b3c",
     "showTitle": false,
     "tableResultSettingsMap": {
      "0": {
       "dataGridStateBlob": "{\"version\":1,\"tableState\":{\"columnPinning\":{\"left\":[\"#row_number#\"],\"right\":[]},\"columnSizing\":{\"full_info\":90,\"name_lower\":90},\"columnVisibility\":{}},\"settings\":{\"columns\":{}},\"syncTimestamp\":1753327336396}",
       "filterBlob": null,
       "queryPlanFiltersBlob": null,
       "tableResultIndex": 0
      }
     },
     "title": ""
    }
   },
   "outputs": [],
   "source": [
    "df6 = df5.withColumn(\"name_split\", split(col(\"full_info\"), \"-\"))\n",
    "\n",
    "#display(df6)\n",
    "df7 = df6.withColumn(\"exploded_name\", explode(col(\"name_split\")))\n",
    "\n",
    "display(df7)\n",
    "\n"
   ]
  },
  {
   "cell_type": "code",
   "execution_count": 0,
   "metadata": {
    "application/vnd.databricks.v1+cell": {
     "cellMetadata": {
      "byteLimit": 2048000,
      "rowLimit": 10000
     },
     "inputWidgets": {},
     "nuid": "ddd8f73e-9a9f-4950-8c41-62dfff6a4ed8",
     "showTitle": false,
     "tableResultSettingsMap": {},
     "title": ""
    }
   },
   "outputs": [],
   "source": [
    "from pyspark.sql.functions import *\n",
    "\n",
    "df17 = df7.groupBy(\"name\",\"state\",\"age\").agg(collect_list(col(\"exploded_name\")))\n",
    "\n",
    "display(df17)"
   ]
  },
  {
   "cell_type": "code",
   "execution_count": 0,
   "metadata": {
    "application/vnd.databricks.v1+cell": {
     "cellMetadata": {
      "byteLimit": 2048000,
      "rowLimit": 10000
     },
     "inputWidgets": {},
     "nuid": "b3e5168e-557d-46f0-86ff-e4f4843d3673",
     "showTitle": false,
     "tableResultSettingsMap": {},
     "title": ""
    }
   },
   "outputs": [],
   "source": [
    "df8 = df7.where(col(\"age\") > 30)\n",
    "\n",
    "display(df8)\n"
   ]
  },
  {
   "cell_type": "code",
   "execution_count": 0,
   "metadata": {
    "application/vnd.databricks.v1+cell": {
     "cellMetadata": {
      "byteLimit": 2048000,
      "rowLimit": 10000
     },
     "inputWidgets": {},
     "nuid": "c6159df9-3a10-4bdd-9e70-b4932f40c6b2",
     "showTitle": false,
     "tableResultSettingsMap": {},
     "title": ""
    }
   },
   "outputs": [],
   "source": [
    "df9 = df8.groupBy(\"state\").agg(\n",
    "    avg(\"age\").alias(\"avg_age\"),\n",
    "    spark_sum(\"age\").alias(\"total_age\"),\n",
    "    countDistinct(\"name\").alias(\"unique_names\")\n",
    ")\n",
    "\n",
    "display(df9)"
   ]
  }
 ],
 "metadata": {
  "application/vnd.databricks.v1+notebook": {
   "computePreferences": null,
   "dashboards": [],
   "environmentMetadata": {
    "base_environment": "",
    "environment_version": "2"
   },
   "inputWidgetPreferences": null,
   "language": "python",
   "notebookMetadata": {
    "pythonIndentUnit": 4
   },
   "notebookName": "Dataframe Operations 2025-07-24 08:35:49",
   "widgets": {}
  },
  "language_info": {
   "name": "python"
  }
 },
 "nbformat": 4,
 "nbformat_minor": 0
}

{
 "cells": [
  {
   "cell_type": "code",
   "execution_count": 0,
   "metadata": {
    "application/vnd.databricks.v1+cell": {
     "cellMetadata": {
      "byteLimit": 2048000,
      "rowLimit": 10000
     },
     "inputWidgets": {},
     "nuid": "aba0799d-de70-48bb-94b7-c5139f1ea128",
     "showTitle": false,
     "tableResultSettingsMap": {},
     "title": ""
    }
   },
   "outputs": [],
   "source": [
    "\n",
    "pip install Faker"
   ]
  },
  {
   "cell_type": "code",
   "execution_count": 0,
   "metadata": {
    "application/vnd.databricks.v1+cell": {
     "cellMetadata": {
      "byteLimit": 2048000,
      "rowLimit": 10000
     },
     "inputWidgets": {},
     "nuid": "5252cd87-d6ef-40a5-8cb8-5f2a12a5be19",
     "showTitle": false,
     "tableResultSettingsMap": {},
     "title": ""
    }
   },
   "outputs": [],
   "source": [
    "dbutils.library.restartPython()"
   ]
  },
  {
   "cell_type": "markdown",
   "metadata": {
    "application/vnd.databricks.v1+cell": {
     "cellMetadata": {},
     "inputWidgets": {},
     "nuid": "a79147e5-a699-413b-88da-e54c5e27ddeb",
     "showTitle": false,
     "tableResultSettingsMap": {},
     "title": ""
    }
   },
   "source": [
    "# Customer Data Preparation scripts"
   ]
  },
  {
   "cell_type": "code",
   "execution_count": 0,
   "metadata": {
    "application/vnd.databricks.v1+cell": {
     "cellMetadata": {
      "byteLimit": 2048000,
      "rowLimit": 10000
     },
     "inputWidgets": {},
     "nuid": "172f4484-7be1-4599-bf66-cf0f227a6337",
     "showTitle": false,
     "tableResultSettingsMap": {},
     "title": ""
    }
   },
   "outputs": [],
   "source": [
    "catalog = \"workspace\"\n",
    "schema = dbName = db = \"retail_dlt\"\n",
    "volume_name = \"raw_data\"\n",
    "\n",
    "spark.sql(f'CREATE CATALOG IF NOT EXISTS `{catalog}`')\n",
    "spark.sql(f'USE CATALOG `{catalog}`')\n",
    "spark.sql(f'CREATE SCHEMA IF NOT EXISTS `{catalog}`.`{schema}`')\n",
    "spark.sql(f'USE SCHEMA `{schema}`')\n",
    "spark.sql(f'CREATE VOLUME IF NOT EXISTS `{catalog}`.`{schema}`.`{volume_name}`')\n",
    "volume_folder =  f\"/Volumes/{catalog}/{db}/{volume_name}\""
   ]
  },
  {
   "cell_type": "code",
   "execution_count": 0,
   "metadata": {
    "application/vnd.databricks.v1+cell": {
     "cellMetadata": {
      "byteLimit": 2048000,
      "rowLimit": 10000
     },
     "inputWidgets": {},
     "nuid": "2a83409f-49ad-4aa3-b300-f75f86a1cc85",
     "showTitle": false,
     "tableResultSettingsMap": {},
     "title": ""
    }
   },
   "outputs": [],
   "source": [
    "# You can change the catalog, schema, dbName, and db. If you do so, you must also\n",
    "# change the names in the rest of the tutorial.\n",
    "catalog = \"workspace\"\n",
    "schema = dbName = db = \"retail_dlt\"\n",
    "volume_name = \"raw_data\"\n",
    "\n",
    "spark.sql(f'CREATE CATALOG IF NOT EXISTS `{catalog}`')\n",
    "spark.sql(f'USE CATALOG `{catalog}`')\n",
    "spark.sql(f'CREATE SCHEMA IF NOT EXISTS `{catalog}`.`{schema}`')\n",
    "spark.sql(f'USE SCHEMA `{schema}`')\n",
    "spark.sql(f'CREATE VOLUME IF NOT EXISTS `{catalog}`.`{schema}`.`{volume_name}`')\n",
    "volume_folder =  f\"/Volumes/{catalog}/{db}/{volume_name}\"\n",
    "\n",
    "try:\n",
    "  dbutils.fs.ls(volume_folder+\"/customers\")\n",
    "except:\n",
    "  print(f\"folder doesn't exists, generating the data under {volume_folder}...\")\n",
    "  from pyspark.sql import functions as F\n",
    "  from faker import Faker\n",
    "  from collections import OrderedDict\n",
    "  import uuid\n",
    "  fake = Faker()\n",
    "  import random\n",
    "\n",
    "  fake_firstname = F.udf(fake.first_name)\n",
    "  fake_lastname = F.udf(fake.last_name)\n",
    "  fake_email = F.udf(fake.ascii_company_email)\n",
    "  fake_date = F.udf(lambda:fake.date_time_this_month().strftime(\"%m-%d-%Y %H:%M:%S\"))\n",
    "  fake_address = F.udf(fake.address)\n",
    "  operations = OrderedDict([(\"APPEND\", 0.5),(\"DELETE\", 0.1),(\"UPDATE\", 0.3),(None, 0.01)])\n",
    "  fake_operation = F.udf(lambda:fake.random_elements(elements=operations, length=1)[0])\n",
    "  fake_id = F.udf(lambda: str(uuid.uuid4()) if random.uniform(0, 1) < 0.98 else None)\n",
    "\n",
    "  df = spark.range(0, 100000).repartition(10)\n",
    "  df = df.withColumn(\"id\", fake_id())\n",
    "  df = df.withColumn(\"firstname\", fake_firstname())\n",
    "  df = df.withColumn(\"lastname\", fake_lastname())\n",
    "  df = df.withColumn(\"email\", fake_email())\n",
    "  df = df.withColumn(\"address\", fake_address())\n",
    "  df = df.withColumn(\"operation\", fake_operation())\n",
    "  df_customers = df.withColumn(\"operation_date\", fake_date())\n",
    "  df_customers.repartition(1).write.format(\"json\").mode(\"overwrite\").save(volume_folder+\"/customers\")\n",
    "  #/Volumes/workspace/customers/raw_data/customers/"
   ]
  },
  {
   "cell_type": "code",
   "execution_count": 0,
   "metadata": {
    "application/vnd.databricks.v1+cell": {
     "cellMetadata": {
      "byteLimit": 2048000,
      "rowLimit": 10000
     },
     "inputWidgets": {},
     "nuid": "0ec0dfc0-25b5-4714-ac95-d1c56c0e89ad",
     "showTitle": false,
     "tableResultSettingsMap": {},
     "title": ""
    }
   },
   "outputs": [],
   "source": [
    "display(spark.read.json(volume_folder+\"/customers\"))"
   ]
  },
  {
   "cell_type": "markdown",
   "metadata": {
    "application/vnd.databricks.v1+cell": {
     "cellMetadata": {},
     "inputWidgets": {},
     "nuid": "1b0ab220-5187-4af4-8232-b9e78fa0348b",
     "showTitle": false,
     "tableResultSettingsMap": {},
     "title": ""
    }
   },
   "source": [
    "# Incremental File with Schema Evolution"
   ]
  },
  {
   "cell_type": "code",
   "execution_count": 0,
   "metadata": {
    "application/vnd.databricks.v1+cell": {
     "cellMetadata": {
      "byteLimit": 2048000,
      "rowLimit": 10000
     },
     "inputWidgets": {},
     "nuid": "767a6b1c-3f06-481f-a93e-f97946dac3e1",
     "showTitle": false,
     "tableResultSettingsMap": {},
     "title": ""
    }
   },
   "outputs": [],
   "source": [
    "from pyspark.sql import functions as F\n",
    "from faker import Faker\n",
    "from collections import OrderedDict\n",
    "import uuid\n",
    "import random\n",
    "\n",
    "fake = Faker()\n",
    "\n",
    "fake_firstname = F.udf(fake.first_name)\n",
    "fake_lastname = F.udf(fake.last_name)\n",
    "fake_email = F.udf(fake.ascii_company_email)\n",
    "fake_date = F.udf(lambda: fake.date_time_this_month().strftime(\"%m-%d-%Y %H:%M:%S\"))\n",
    "fake_address = F.udf(fake.address)\n",
    "operations = OrderedDict([(\"APPEND\", 0.5), (\"DELETE\", 0.1), (\"UPDATE\", 0.3), (None, 0.01)])\n",
    "fake_operation = F.udf(lambda: fake.random_elements(elements=operations, length=1)[0])\n",
    "fake_id = F.udf(lambda: str(uuid.uuid4()) if random.uniform(0, 1) < 0.98 else None)\n",
    "fake_phone = F.udf(fake.phone_number)\n",
    "fake_country = F.udf(fake.country)\n",
    "fake_signup_source = F.udf(lambda: random.choice([\"Web\", \"Mobile\", \"Store\", \"Referral\"]))\n",
    "\n",
    "# Simulate incremental data (e.g., 10,000 new records)\n",
    "df_incremental = spark.range(100000, 110000).repartition(1)\n",
    "df_incremental = df_incremental.withColumn(\"id\", fake_id())\n",
    "df_incremental = df_incremental.withColumn(\"firstname\", fake_firstname())\n",
    "df_incremental = df_incremental.withColumn(\"lastname\", fake_lastname())\n",
    "df_incremental.withColumn(\"email\", fake_email())\n",
    "df_incremental = df_incremental.withColumn(\"address\", fake_address())\n",
    "df_incremental = df_incremental.withColumn(\"operation\", fake_operation())\n",
    "df_incremental = df_incremental.withColumn(\"operation_date\", fake_date())\n",
    "# Schema evolution: add new columns\n",
    "df_incremental = df_incremental.withColumn(\"phone\", fake_phone())\n",
    "df_incremental = df_incremental.withColumn(\"country\", fake_country())\n",
    "df_incremental = df_incremental.withColumn(\"signup_source\", fake_signup_source())\n",
    "\n",
    "# Write as a single JSON file with schema evolution\n",
    "df_incremental.coalesce(1).write.format(\"json\").mode(\"append\").save(volume_folder + \"/customers\")"
   ]
  },
  {
   "cell_type": "markdown",
   "metadata": {
    "application/vnd.databricks.v1+cell": {
     "cellMetadata": {},
     "inputWidgets": {},
     "nuid": "dc37f9c0-c9d9-427e-8fa8-c1418a58f230",
     "showTitle": false,
     "tableResultSettingsMap": {},
     "title": ""
    }
   },
   "source": [
    "# Validate the tables data"
   ]
  },
  {
   "cell_type": "code",
   "execution_count": 0,
   "metadata": {
    "application/vnd.databricks.v1+cell": {
     "cellMetadata": {
      "byteLimit": 2048000,
      "implicitDf": true,
      "rowLimit": 10000
     },
     "inputWidgets": {},
     "nuid": "945aad3c-40b0-4b36-bdb1-4b8cb79da5d8",
     "showTitle": false,
     "tableResultSettingsMap": {},
     "title": ""
    }
   },
   "outputs": [],
   "source": [
    "%sql\n",
    "select * from workspace.retail_dlt.customers_bronze"
   ]
  },
  {
   "cell_type": "code",
   "execution_count": 0,
   "metadata": {
    "application/vnd.databricks.v1+cell": {
     "cellMetadata": {
      "byteLimit": 2048000,
      "implicitDf": true,
      "rowLimit": 10000
     },
     "inputWidgets": {},
     "nuid": "43950999-18c1-4cfc-a668-56116a2d1828",
     "showTitle": false,
     "tableResultSettingsMap": {},
     "title": ""
    }
   },
   "outputs": [],
   "source": [
    "%sql\n",
    "select * from workspace.customers.customers_silver"
   ]
  },
  {
   "cell_type": "code",
   "execution_count": 0,
   "metadata": {
    "application/vnd.databricks.v1+cell": {
     "cellMetadata": {
      "byteLimit": 2048000,
      "implicitDf": true,
      "rowLimit": 10000
     },
     "inputWidgets": {},
     "nuid": "db592e27-b046-4d11-a0e9-5e54ab0c843b",
     "showTitle": false,
     "tableResultSettingsMap": {},
     "title": ""
    }
   },
   "outputs": [],
   "source": [
    "%sql\n",
    "select * from workspace.customers.customers_gold"
   ]
  },
  {
   "cell_type": "code",
   "execution_count": 0,
   "metadata": {
    "application/vnd.databricks.v1+cell": {
     "cellMetadata": {
      "byteLimit": 2048000,
      "implicitDf": true,
      "rowLimit": 10000
     },
     "inputWidgets": {},
     "nuid": "f96e4238-fbac-4594-9706-3a75f8cd4119",
     "showTitle": false,
     "tableResultSettingsMap": {},
     "title": ""
    }
   },
   "outputs": [],
   "source": [
    "%sql\n",
    "select * from workspace.customers.customers_history"
   ]
  },
  {
   "cell_type": "code",
   "execution_count": 0,
   "metadata": {
    "application/vnd.databricks.v1+cell": {
     "cellMetadata": {
      "byteLimit": 2048000,
      "implicitDf": true,
      "rowLimit": 10000
     },
     "inputWidgets": {},
     "nuid": "34bae351-4210-4ce5-b27e-2513c74b3cab",
     "showTitle": false,
     "tableResultSettingsMap": {},
     "title": ""
    }
   },
   "outputs": [],
   "source": [
    "%sql\n",
    "select * from workspace.customers.customers_history_agg"
   ]
  },
  {
   "cell_type": "markdown",
   "metadata": {
    "application/vnd.databricks.v1+cell": {
     "cellMetadata": {},
     "inputWidgets": {},
     "nuid": "b95b8d5d-e2d8-4671-969f-e51daa5c8a81",
     "showTitle": false,
     "tableResultSettingsMap": {},
     "title": ""
    }
   },
   "source": [
    "# Orders Dataset Preparation"
   ]
  },
  {
   "cell_type": "code",
   "execution_count": 0,
   "metadata": {
    "application/vnd.databricks.v1+cell": {
     "cellMetadata": {
      "byteLimit": 2048000,
      "rowLimit": 10000
     },
     "inputWidgets": {},
     "nuid": "7b9be3fc-3184-4d56-9da6-bdf65bcdf127",
     "showTitle": false,
     "tableResultSettingsMap": {},
     "title": ""
    }
   },
   "outputs": [],
   "source": [
    "try:\n",
    "  dbutils.fs.ls(volume_folder + \"/orders\")\n",
    "except:\n",
    "  print(f\"folder doesn't exist, generating the data under {volume_folder}...\")\n",
    "  from pyspark.sql import functions as F\n",
    "  from faker import Faker\n",
    "  import uuid\n",
    "  import random\n",
    "\n",
    "  fake = Faker()\n",
    "  fake_order_id = F.udf(lambda: str(uuid.uuid4()))\n",
    "  fake_order_date = F.udf(lambda: fake.date_time_this_year().strftime(\"%m-%d-%Y %H:%M:%S\"))\n",
    "  fake_product = F.udf(fake.word)\n",
    "  fake_amount = F.udf(lambda: round(random.uniform(10, 1000), 2))\n",
    "  fake_status = F.udf(lambda: random.choice([\"PENDING\", \"SHIPPED\", \"DELIVERED\", \"CANCELLED\"]))\n",
    "\n",
    "  # Load customer ids from the customers file\n",
    "  customers_df = spark.read.json(volume_folder + \"/customers\")\n",
    "  customer_ids = customers_df.select(\"id\").where(F.col(\"id\").isNotNull()).distinct()\n",
    "  customer_ids_list = [row[\"id\"] for row in customer_ids.collect()]\n",
    "\n",
    "  def random_customer_id():\n",
    "    return random.choice(customer_ids_list) if customer_ids_list else None\n",
    "\n",
    "  fake_customer_id = F.udf(random_customer_id)\n",
    "\n",
    "  orders_df = spark.range(0, 50000).repartition(50)\n",
    "  orders_df = orders_df.withColumn(\"order_id\", fake_order_id())\n",
    "  orders_df = orders_df.withColumn(\"customer_id\", fake_customer_id())\n",
    "  orders_df = orders_df.withColumn(\"order_date\", fake_order_date())\n",
    "  orders_df = orders_df.withColumn(\"product\", fake_product())\n",
    "  orders_df = orders_df.withColumn(\"amount\", fake_amount())\n",
    "  orders_df = orders_df.withColumn(\"status\", fake_status())\n",
    "\n",
    "  orders_df.select(\"order_id\", \"customer_id\", \"order_date\", \"product\", \"amount\", \"status\") \\\n",
    "    .repartition(50) \\\n",
    "    .write \\\n",
    "    .format(\"csv\") \\\n",
    "    .option(\"header\", \"true\") \\\n",
    "    .mode(\"overwrite\") \\\n",
    "    .save(volume_folder + \"/orders\")"
   ]
  },
  {
   "cell_type": "markdown",
   "metadata": {
    "application/vnd.databricks.v1+cell": {
     "cellMetadata": {},
     "inputWidgets": {},
     "nuid": "7db42ef3-c0ef-45a9-914b-f3bbde08dd61",
     "showTitle": false,
     "tableResultSettingsMap": {},
     "title": ""
    }
   },
   "source": [
    "# Products datasets Preparation"
   ]
  },
  {
   "cell_type": "code",
   "execution_count": 0,
   "metadata": {
    "application/vnd.databricks.v1+cell": {
     "cellMetadata": {
      "byteLimit": 2048000,
      "rowLimit": 10000
     },
     "inputWidgets": {},
     "nuid": "4dd8a4b1-7f61-4ef4-94d2-5245c79c678a",
     "showTitle": false,
     "tableResultSettingsMap": {},
     "title": ""
    }
   },
   "outputs": [],
   "source": [
    "try:\n",
    "  dbutils.fs.ls(volume_folder + \"/products\")\n",
    "except:\n",
    "  print(f\"folder doesn't exist, generating the data under {volume_folder}...\")\n",
    "  from pyspark.sql import functions as F\n",
    "  from faker import Faker\n",
    "  import uuid\n",
    "  import random\n",
    "\n",
    "  fake = Faker()\n",
    "  fake_product_id = F.udf(lambda: str(uuid.uuid4()))\n",
    "  fake_product_name = F.udf(fake.word)\n",
    "  fake_category = F.udf(lambda: random.choice([\"Electronics\", \"Clothing\", \"Books\", \"Home\", \"Toys\", \"Sports\"]))\n",
    "  fake_price = F.udf(lambda: round(random.uniform(5, 2000), 2))\n",
    "  fake_stock = F.udf(lambda: random.randint(0, 500))\n",
    "  fake_description = F.udf(fake.sentence)\n",
    "\n",
    "  products_df = spark.range(0, 10000).repartition(10)\n",
    "  products_df = products_df.withColumn(\"product_id\", fake_product_id())\n",
    "  products_df = products_df.withColumn(\"product_name\", fake_product_name())\n",
    "  products_df = products_df.withColumn(\"category\", fake_category())\n",
    "  products_df = products_df.withColumn(\"price\", fake_price())\n",
    "  products_df = products_df.withColumn(\"stock\", fake_stock())\n",
    "  products_df = products_df.withColumn(\"description\", fake_description())\n",
    "\n",
    "  products_df.select(\"product_id\", \"product_name\", \"category\", \"price\", \"stock\", \"description\") \\\n",
    "    .repartition(1) \\\n",
    "    .write \\\n",
    "    .format(\"parquet\") \\\n",
    "    .mode(\"overwrite\") \\\n",
    "    .save(volume_folder + \"/products\")\n",
    "\n"
   ]
  }
 ],
 "metadata": {
  "application/vnd.databricks.v1+notebook": {
   "computePreferences": {
    "hardware": {
     "accelerator": null,
     "gpuPoolId": null,
     "memory": null
    }
   },
   "dashboards": [],
   "environmentMetadata": {
    "base_environment": "",
    "environment_version": "2"
   },
   "inputWidgetPreferences": null,
   "language": "python",
   "notebookMetadata": {
    "mostRecentlyExecutedCommandWithImplicitDF": {
     "commandId": 6172551339214846,
     "dataframes": [
      "_sqldf"
     ]
    },
    "pythonIndentUnit": 4
   },
   "notebookName": "DataPrep Customer Dataset",
   "widgets": {}
  },
  "language_info": {
   "name": "python"
  }
 },
 "nbformat": 4,
 "nbformat_minor": 0
}

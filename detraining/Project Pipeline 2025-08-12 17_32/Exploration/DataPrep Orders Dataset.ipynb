{
 "cells": [
  {
   "cell_type": "code",
   "execution_count": 0,
   "metadata": {
    "application/vnd.databricks.v1+cell": {
     "cellMetadata": {
      "byteLimit": 2048000,
      "rowLimit": 10000
     },
     "inputWidgets": {},
     "nuid": "aba0799d-de70-48bb-94b7-c5139f1ea128",
     "showTitle": false,
     "tableResultSettingsMap": {},
     "title": ""
    }
   },
   "outputs": [],
   "source": [
    "\n",
    "pip install Faker"
   ]
  },
  {
   "cell_type": "code",
   "execution_count": 0,
   "metadata": {
    "application/vnd.databricks.v1+cell": {
     "cellMetadata": {
      "byteLimit": 2048000,
      "rowLimit": 10000
     },
     "inputWidgets": {},
     "nuid": "5252cd87-d6ef-40a5-8cb8-5f2a12a5be19",
     "showTitle": false,
     "tableResultSettingsMap": {},
     "title": ""
    }
   },
   "outputs": [],
   "source": [
    "dbutils.library.restartPython()"
   ]
  },
  {
   "cell_type": "markdown",
   "metadata": {
    "application/vnd.databricks.v1+cell": {
     "cellMetadata": {},
     "inputWidgets": {},
     "nuid": "b95b8d5d-e2d8-4671-969f-e51daa5c8a81",
     "showTitle": false,
     "tableResultSettingsMap": {},
     "title": ""
    }
   },
   "source": [
    "# Orders Dataset Preparation"
   ]
  },
  {
   "cell_type": "code",
   "execution_count": 0,
   "metadata": {
    "application/vnd.databricks.v1+cell": {
     "cellMetadata": {
      "byteLimit": 2048000,
      "rowLimit": 10000
     },
     "inputWidgets": {},
     "nuid": "7b9be3fc-3184-4d56-9da6-bdf65bcdf127",
     "showTitle": false,
     "tableResultSettingsMap": {},
     "title": ""
    }
   },
   "outputs": [],
   "source": [
    "catalog = \"workspace\"\n",
    "schema = dbName = db = \"retail_dlt\"\n",
    "volume_name = \"raw_data\"\n",
    "\n",
    "spark.sql(f'CREATE CATALOG IF NOT EXISTS `{catalog}`')\n",
    "spark.sql(f'USE CATALOG `{catalog}`')\n",
    "spark.sql(f'CREATE SCHEMA IF NOT EXISTS `{catalog}`.`{schema}`')\n",
    "spark.sql(f'USE SCHEMA `{schema}`')\n",
    "spark.sql(f'CREATE VOLUME IF NOT EXISTS `{catalog}`.`{schema}`.`{volume_name}`')\n",
    "volume_folder =  f\"/Volumes/{catalog}/{db}/{volume_name}\"\n",
    "\n",
    "\n",
    "try:\n",
    "  dbutils.fs.ls(volume_folder + \"/orders\")\n",
    "except:\n",
    "  print(f\"folder doesn't exist, generating the data under {volume_folder}...\")\n",
    "  from pyspark.sql import functions as F\n",
    "  from faker import Faker\n",
    "  import uuid\n",
    "  import random\n",
    "\n",
    "  fake = Faker()\n",
    "  fake_order_id = F.udf(lambda: str(uuid.uuid4()))\n",
    "  fake_order_date = F.udf(lambda: fake.date_time_this_year().strftime(\"%m-%d-%Y %H:%M:%S\"))\n",
    "  fake_product = F.udf(fake.word)\n",
    "  fake_amount = F.udf(lambda: round(random.uniform(10, 1000), 2))\n",
    "  fake_status = F.udf(lambda: random.choice([\"PENDING\", \"SHIPPED\", \"DELIVERED\", \"CANCELLED\"]))\n",
    "\n",
    "  # Load customer ids from the customers file\n",
    "  customers_df = spark.read.json(volume_folder + \"/customers\")\n",
    "  customer_ids = customers_df.select(\"id\").where(F.col(\"id\").isNotNull()).distinct()\n",
    "  customer_ids_list = [row[\"id\"] for row in customer_ids.collect()]\n",
    "\n",
    "  def random_customer_id():\n",
    "    return random.choice(customer_ids_list) if customer_ids_list else None\n",
    "\n",
    "  fake_customer_id = F.udf(random_customer_id)\n",
    "\n",
    "  orders_df = spark.range(0, 50000).repartition(50)\n",
    "  orders_df = orders_df.withColumn(\"order_id\", fake_order_id())\n",
    "  orders_df = orders_df.withColumn(\"customer_id\", fake_customer_id())\n",
    "  orders_df = orders_df.withColumn(\"order_date\", fake_order_date())\n",
    "  orders_df = orders_df.withColumn(\"product\", fake_product())\n",
    "  orders_df = orders_df.withColumn(\"amount\", fake_amount())\n",
    "  orders_df = orders_df.withColumn(\"status\", fake_status())\n",
    "\n",
    "  orders_df.select(\"order_id\", \"customer_id\", \"order_date\", \"product\", \"amount\", \"status\") \\\n",
    "    .repartition(1) \\\n",
    "    .write \\\n",
    "    .format(\"csv\") \\\n",
    "    .option(\"header\", \"true\") \\\n",
    "    .mode(\"overwrite\") \\\n",
    "    .save(volume_folder + \"/orders\")"
   ]
  },
  {
   "cell_type": "code",
   "execution_count": 0,
   "metadata": {
    "application/vnd.databricks.v1+cell": {
     "cellMetadata": {},
     "inputWidgets": {},
     "nuid": "55450e7b-62bf-4b7d-a739-24af00702eb8",
     "showTitle": false,
     "tableResultSettingsMap": {},
     "title": ""
    }
   },
   "outputs": [],
   "source": [
    "#/Volumes/workspace/retail_dlt/raw_data/customers/\n",
    "/Volumes/workspace/retail_dlt/raw_data/orders/part-00000-tid-2447337226612876626-c1324c15-67e6-498e-a00d-79a5025341a7-202-1-c000.csv"
   ]
  },
  {
   "cell_type": "code",
   "execution_count": 0,
   "metadata": {
    "application/vnd.databricks.v1+cell": {
     "cellMetadata": {
      "byteLimit": 2048000,
      "implicitDf": true,
      "rowLimit": 10000
     },
     "inputWidgets": {},
     "nuid": "b75051fe-3819-449f-8452-da9e099b6f9b",
     "showTitle": false,
     "tableResultSettingsMap": {},
     "title": ""
    }
   },
   "outputs": [],
   "source": [
    "%sql\n",
    "select * from workspace.retail_dlt.orders_bronze"
   ]
  },
  {
   "cell_type": "markdown",
   "metadata": {
    "application/vnd.databricks.v1+cell": {
     "cellMetadata": {},
     "inputWidgets": {},
     "nuid": "4e7a5074-b5c2-437c-8a32-fc1ec0d1b54c",
     "showTitle": false,
     "tableResultSettingsMap": {},
     "title": ""
    }
   },
   "source": [
    "# Incremental File with Schema Evolution"
   ]
  },
  {
   "cell_type": "code",
   "execution_count": 0,
   "metadata": {
    "application/vnd.databricks.v1+cell": {
     "cellMetadata": {},
     "inputWidgets": {},
     "nuid": "8a94513e-9151-45f7-8231-324dc5bd647b",
     "showTitle": false,
     "tableResultSettingsMap": {},
     "title": ""
    }
   },
   "outputs": [],
   "source": [
    "from pyspark.sql import functions as F\n",
    "from faker import Faker\n",
    "import uuid\n",
    "import random\n",
    "\n",
    "fake = Faker()\n",
    "fake_order_id = F.udf(lambda: str(uuid.uuid4()))\n",
    "fake_order_date = F.udf(lambda: fake.date_time_this_year().strftime(\"%m-%d-%Y %H:%M:%S\"))\n",
    "fake_product = F.udf(fake.word)\n",
    "fake_amount = F.udf(lambda: round(random.uniform(10, 1000), 2))\n",
    "fake_status = F.udf(lambda: random.choice([\"PENDING\", \"SHIPPED\", \"DELIVERED\", \"CANCELLED\"]))\n",
    "\n",
    "# Load customer ids from the customers file\n",
    "customers_df = spark.read.json(volume_folder + \"/customers\")\n",
    "customer_ids = customers_df.select(\"id\").where(F.col(\"id\").isNotNull()).distinct()\n",
    "customer_ids_list = [row[\"id\"] for row in customer_ids.collect()]\n",
    "\n",
    "def random_customer_id():\n",
    "    return random.choice(customer_ids_list) if customer_ids_list else None\n",
    "\n",
    "fake_customer_id = F.udf(random_customer_id)\n",
    "\n",
    "# Generate incremental data with schema evolution (extra columns)\n",
    "incremental_df = spark.range(50000, 60000).repartition(10)\n",
    "incremental_df = incremental_df.withColumn(\"order_id\", fake_order_id())\n",
    "incremental_df = incremental_df.withColumn(\"customer_id\", fake_customer_id())\n",
    "incremental_df = incremental_df.withColumn(\"order_date\", fake_order_date())\n",
    "incremental_df = incremental_df.withColumn(\"product\", fake_product())\n",
    "incremental_df = incremental_df.withColumn(\"amount\", fake_amount())\n",
    "incremental_df = incremental_df.withColumn(\"status\", fake_status())\n",
    "# Schema evolution: add new columns\n",
    "incremental_df = incremental_df.withColumn(\"shipping_address\", F.udf(fake.address)())\n",
    "incremental_df = incremental_df.withColumn(\"priority\", F.udf(lambda: random.choice([\"LOW\", \"MEDIUM\", \"HIGH\"]))())\n",
    "incremental_df = incremental_df.withColumn(\"discount\", F.udf(lambda: round(random.uniform(0, 0.3), 2))())\n",
    "\n",
    "incremental_df.select(\n",
    "    \"order_id\", \"customer_id\", \"order_date\", \"product\", \"amount\", \"status\",\n",
    "    \"shipping_address\", \"priority\", \"discount\"\n",
    ").repartition(1).write.format(\"csv\").option(\"header\", \"true\").mode(\"append\").save(volume_folder + \"/orders\")"
   ]
  },
  {
   "cell_type": "markdown",
   "metadata": {
    "application/vnd.databricks.v1+cell": {
     "cellMetadata": {},
     "inputWidgets": {},
     "nuid": "d563cd01-87d8-4ddb-aec1-6c3055895f5a",
     "showTitle": false,
     "tableResultSettingsMap": {},
     "title": ""
    }
   },
   "source": [
    "# Validate the tables data"
   ]
  },
  {
   "cell_type": "code",
   "execution_count": 0,
   "metadata": {
    "application/vnd.databricks.v1+cell": {
     "cellMetadata": {},
     "inputWidgets": {},
     "nuid": "486c56a3-9236-4595-bd70-6ff09a47e982",
     "showTitle": false,
     "tableResultSettingsMap": {},
     "title": ""
    }
   },
   "outputs": [],
   "source": []
  }
 ],
 "metadata": {
  "application/vnd.databricks.v1+notebook": {
   "computePreferences": {
    "hardware": {
     "accelerator": null,
     "gpuPoolId": null,
     "memory": null
    }
   },
   "dashboards": [],
   "environmentMetadata": {
    "base_environment": "",
    "environment_version": "2"
   },
   "inputWidgetPreferences": null,
   "language": "python",
   "notebookMetadata": {
    "mostRecentlyExecutedCommandWithImplicitDF": {
     "commandId": 8063761451402935,
     "dataframes": [
      "_sqldf"
     ]
    },
    "pythonIndentUnit": 4
   },
   "notebookName": "DataPrep Orders Dataset",
   "widgets": {}
  },
  "language_info": {
   "name": "python"
  }
 },
 "nbformat": 4,
 "nbformat_minor": 0
}

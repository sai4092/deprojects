{
 "cells": [
  {
   "cell_type": "code",
   "execution_count": 0,
   "metadata": {
    "application/vnd.databricks.v1+cell": {
     "cellMetadata": {
      "byteLimit": 2048000,
      "rowLimit": 10000
     },
     "inputWidgets": {},
     "nuid": "aba0799d-de70-48bb-94b7-c5139f1ea128",
     "showTitle": false,
     "tableResultSettingsMap": {},
     "title": ""
    }
   },
   "outputs": [],
   "source": [
    "\n",
    "pip install Faker"
   ]
  },
  {
   "cell_type": "code",
   "execution_count": 0,
   "metadata": {
    "application/vnd.databricks.v1+cell": {
     "cellMetadata": {
      "byteLimit": 2048000,
      "rowLimit": 10000
     },
     "inputWidgets": {},
     "nuid": "5252cd87-d6ef-40a5-8cb8-5f2a12a5be19",
     "showTitle": false,
     "tableResultSettingsMap": {},
     "title": ""
    }
   },
   "outputs": [],
   "source": [
    "dbutils.library.restartPython()"
   ]
  },
  {
   "cell_type": "markdown",
   "metadata": {
    "application/vnd.databricks.v1+cell": {
     "cellMetadata": {},
     "inputWidgets": {},
     "nuid": "7db42ef3-c0ef-45a9-914b-f3bbde08dd61",
     "showTitle": false,
     "tableResultSettingsMap": {},
     "title": ""
    }
   },
   "source": [
    "# Products datasets Preparation"
   ]
  },
  {
   "cell_type": "code",
   "execution_count": 0,
   "metadata": {
    "application/vnd.databricks.v1+cell": {
     "cellMetadata": {
      "byteLimit": 2048000,
      "rowLimit": 10000
     },
     "inputWidgets": {},
     "nuid": "4dd8a4b1-7f61-4ef4-94d2-5245c79c678a",
     "showTitle": false,
     "tableResultSettingsMap": {},
     "title": ""
    }
   },
   "outputs": [],
   "source": [
    "catalog = \"workspace\"\n",
    "schema = dbName = db = \"customers\"\n",
    "volume_name = \"raw_data\"\n",
    "\n",
    "spark.sql(f'CREATE CATALOG IF NOT EXISTS `{catalog}`')\n",
    "spark.sql(f'USE CATALOG `{catalog}`')\n",
    "spark.sql(f'CREATE SCHEMA IF NOT EXISTS `{catalog}`.`{schema}`')\n",
    "spark.sql(f'USE SCHEMA `{schema}`')\n",
    "spark.sql(f'CREATE VOLUME IF NOT EXISTS `{catalog}`.`{schema}`.`{volume_name}`')\n",
    "volume_folder =  f\"/Volumes/{catalog}/{db}/{volume_name}\"\n",
    "\n",
    "\n",
    "try:\n",
    "  dbutils.fs.ls(volume_folder + \"/products\")\n",
    "except:\n",
    "  print(f\"folder doesn't exist, generating the data under {volume_folder}...\")\n",
    "  from pyspark.sql import functions as F\n",
    "  from faker import Faker\n",
    "  import uuid\n",
    "  import random\n",
    "\n",
    "  fake = Faker()\n",
    "  fake_product_id = F.udf(lambda: str(uuid.uuid4()))\n",
    "  fake_product_name = F.udf(fake.word)\n",
    "  fake_category = F.udf(lambda: random.choice([\"Electronics\", \"Clothing\", \"Books\", \"Home\", \"Toys\", \"Sports\"]))\n",
    "  fake_price = F.udf(lambda: round(random.uniform(5, 2000), 2))\n",
    "  fake_stock = F.udf(lambda: random.randint(0, 500))\n",
    "  fake_description = F.udf(fake.sentence)\n",
    "\n",
    "  products_df = spark.range(0, 10000).repartition(10)\n",
    "  products_df = products_df.withColumn(\"product_id\", fake_product_id())\n",
    "  products_df = products_df.withColumn(\"product_name\", fake_product_name())\n",
    "  products_df = products_df.withColumn(\"category\", fake_category())\n",
    "  products_df = products_df.withColumn(\"price\", fake_price())\n",
    "  products_df = products_df.withColumn(\"stock\", fake_stock())\n",
    "  products_df = products_df.withColumn(\"description\", fake_description())\n",
    "\n",
    "  products_df.select(\"product_id\", \"product_name\", \"category\", \"price\", \"stock\", \"description\") \\\n",
    "    .repartition(1) \\\n",
    "    .write \\\n",
    "    .format(\"parquet\") \\\n",
    "    .mode(\"overwrite\") \\\n",
    "    .save(volume_folder + \"/products\")\n",
    "\n"
   ]
  }
 ],
 "metadata": {
  "application/vnd.databricks.v1+notebook": {
   "computePreferences": {
    "hardware": {
     "accelerator": null,
     "gpuPoolId": null,
     "memory": null
    }
   },
   "dashboards": [],
   "environmentMetadata": {
    "base_environment": "",
    "environment_version": "2"
   },
   "inputWidgetPreferences": null,
   "language": "python",
   "notebookMetadata": {
    "mostRecentlyExecutedCommandWithImplicitDF": {
     "commandId": 6172551339214851,
     "dataframes": [
      "_sqldf"
     ]
    },
    "pythonIndentUnit": 4
   },
   "notebookName": "DataPrep Products Dataset",
   "widgets": {}
  },
  "language_info": {
   "name": "python"
  }
 },
 "nbformat": 4,
 "nbformat_minor": 0
}
